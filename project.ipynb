{
 "cells": [
  {
   "cell_type": "markdown",
   "metadata": {},
   "source": [
    "# Mini Project in Law Enforcement Data Analysis"
   ]
  },
  {
   "cell_type": "markdown",
   "metadata": {},
   "source": [
    "### Individuals killed by police in the US from 2000 - 2016 <br>\n",
    "### The dataset is from https://data.world/awram/us-police-involved-fatalities"
   ]
  },
  {
   "cell_type": "code",
   "execution_count": 1,
   "metadata": {},
   "outputs": [],
   "source": [
    "import pandas as pd\n",
    "import numpy as np"
   ]
  },
  {
   "cell_type": "code",
   "execution_count": 2,
   "metadata": {},
   "outputs": [],
   "source": [
    "census_df = pd.read_csv('C:/Users/Arsen/awram-us-police-involved-fatalities/censusStatePopulations2014.csv', encoding='ISO-8859-1')"
   ]
  },
  {
   "cell_type": "code",
   "execution_count": 3,
   "metadata": {},
   "outputs": [],
   "source": [
    "police_fatalities_df = pd.read_csv('C:/Users/Arsen/awram-us-police-involved-fatalities/policeFatalities.csv', encoding='ISO-8859-1')"
   ]
  },
  {
   "cell_type": "code",
   "execution_count": 4,
   "metadata": {},
   "outputs": [
    {
     "data": {
      "text/html": [
       "<div>\n",
       "<style scoped>\n",
       "    .dataframe tbody tr th:only-of-type {\n",
       "        vertical-align: middle;\n",
       "    }\n",
       "\n",
       "    .dataframe tbody tr th {\n",
       "        vertical-align: top;\n",
       "    }\n",
       "\n",
       "    .dataframe thead th {\n",
       "        text-align: right;\n",
       "    }\n",
       "</style>\n",
       "<table border=\"1\" class=\"dataframe\">\n",
       "  <thead>\n",
       "    <tr style=\"text-align: right;\">\n",
       "      <th></th>\n",
       "      <th>UID</th>\n",
       "      <th>Name</th>\n",
       "      <th>Age</th>\n",
       "      <th>Gender</th>\n",
       "      <th>Race</th>\n",
       "      <th>Date</th>\n",
       "      <th>City</th>\n",
       "      <th>State</th>\n",
       "      <th>Manner_of_death</th>\n",
       "      <th>Armed</th>\n",
       "      <th>Mental_illness</th>\n",
       "      <th>Flee</th>\n",
       "    </tr>\n",
       "  </thead>\n",
       "  <tbody>\n",
       "    <tr>\n",
       "      <th>0</th>\n",
       "      <td>133</td>\n",
       "      <td>Karen O. Chin</td>\n",
       "      <td>44.0</td>\n",
       "      <td>Female</td>\n",
       "      <td>Asian</td>\n",
       "      <td>5/4/2000</td>\n",
       "      <td>Alameda</td>\n",
       "      <td>CA</td>\n",
       "      <td>Shot</td>\n",
       "      <td>NaN</td>\n",
       "      <td>False</td>\n",
       "      <td>False</td>\n",
       "    </tr>\n",
       "    <tr>\n",
       "      <th>1</th>\n",
       "      <td>169</td>\n",
       "      <td>Chyraphone Komvongsa</td>\n",
       "      <td>26.0</td>\n",
       "      <td>Male</td>\n",
       "      <td>Asian</td>\n",
       "      <td>6/2/2000</td>\n",
       "      <td>Fresno</td>\n",
       "      <td>CA</td>\n",
       "      <td>Shot</td>\n",
       "      <td>NaN</td>\n",
       "      <td>False</td>\n",
       "      <td>False</td>\n",
       "    </tr>\n",
       "    <tr>\n",
       "      <th>2</th>\n",
       "      <td>257</td>\n",
       "      <td>Ming Chinh Ly</td>\n",
       "      <td>36.0</td>\n",
       "      <td>Male</td>\n",
       "      <td>Asian</td>\n",
       "      <td>8/13/2000</td>\n",
       "      <td>Rosemead</td>\n",
       "      <td>CA</td>\n",
       "      <td>Shot</td>\n",
       "      <td>Gun</td>\n",
       "      <td>False</td>\n",
       "      <td>False</td>\n",
       "    </tr>\n",
       "    <tr>\n",
       "      <th>3</th>\n",
       "      <td>483</td>\n",
       "      <td>Kinh Quoc Dao</td>\n",
       "      <td>29.0</td>\n",
       "      <td>Male</td>\n",
       "      <td>Asian</td>\n",
       "      <td>2/9/2001</td>\n",
       "      <td>Valley Glen</td>\n",
       "      <td>CA</td>\n",
       "      <td>Shot</td>\n",
       "      <td>Gun</td>\n",
       "      <td>False</td>\n",
       "      <td>False</td>\n",
       "    </tr>\n",
       "    <tr>\n",
       "      <th>4</th>\n",
       "      <td>655</td>\n",
       "      <td>Vanpaseuth Phaisouphanh</td>\n",
       "      <td>25.0</td>\n",
       "      <td>Male</td>\n",
       "      <td>Asian</td>\n",
       "      <td>6/10/2001</td>\n",
       "      <td>Riverside</td>\n",
       "      <td>CA</td>\n",
       "      <td>Shot</td>\n",
       "      <td>Knife</td>\n",
       "      <td>False</td>\n",
       "      <td>False</td>\n",
       "    </tr>\n",
       "    <tr>\n",
       "      <th>...</th>\n",
       "      <td>...</td>\n",
       "      <td>...</td>\n",
       "      <td>...</td>\n",
       "      <td>...</td>\n",
       "      <td>...</td>\n",
       "      <td>...</td>\n",
       "      <td>...</td>\n",
       "      <td>...</td>\n",
       "      <td>...</td>\n",
       "      <td>...</td>\n",
       "      <td>...</td>\n",
       "      <td>...</td>\n",
       "    </tr>\n",
       "    <tr>\n",
       "      <th>12486</th>\n",
       "      <td>12388</td>\n",
       "      <td>Name withheld by police</td>\n",
       "      <td>NaN</td>\n",
       "      <td>Male</td>\n",
       "      <td>NaN</td>\n",
       "      <td>12/9/2008</td>\n",
       "      <td>Sacramento</td>\n",
       "      <td>CA</td>\n",
       "      <td>Other</td>\n",
       "      <td>NaN</td>\n",
       "      <td>False</td>\n",
       "      <td>False</td>\n",
       "    </tr>\n",
       "    <tr>\n",
       "      <th>12487</th>\n",
       "      <td>12429</td>\n",
       "      <td>Gene Lovell Ford</td>\n",
       "      <td>48.0</td>\n",
       "      <td>Male</td>\n",
       "      <td>NaN</td>\n",
       "      <td>8/6/2008</td>\n",
       "      <td>Sacramento</td>\n",
       "      <td>CA</td>\n",
       "      <td>Other</td>\n",
       "      <td>NaN</td>\n",
       "      <td>True</td>\n",
       "      <td>False</td>\n",
       "    </tr>\n",
       "    <tr>\n",
       "      <th>12488</th>\n",
       "      <td>12430</td>\n",
       "      <td>Jose Vega</td>\n",
       "      <td>38.0</td>\n",
       "      <td>Male</td>\n",
       "      <td>NaN</td>\n",
       "      <td>8/6/2008</td>\n",
       "      <td>Visalia</td>\n",
       "      <td>CA</td>\n",
       "      <td>Other</td>\n",
       "      <td>NaN</td>\n",
       "      <td>True</td>\n",
       "      <td>False</td>\n",
       "    </tr>\n",
       "    <tr>\n",
       "      <th>12489</th>\n",
       "      <td>12636</td>\n",
       "      <td>Humberto Torres</td>\n",
       "      <td>41.0</td>\n",
       "      <td>Male</td>\n",
       "      <td>NaN</td>\n",
       "      <td>3/21/2009</td>\n",
       "      <td>Delano</td>\n",
       "      <td>CA</td>\n",
       "      <td>Other</td>\n",
       "      <td>Gun</td>\n",
       "      <td>False</td>\n",
       "      <td>False</td>\n",
       "    </tr>\n",
       "    <tr>\n",
       "      <th>12490</th>\n",
       "      <td>12861</td>\n",
       "      <td>Name withheld by police</td>\n",
       "      <td>39.0</td>\n",
       "      <td>Male</td>\n",
       "      <td>NaN</td>\n",
       "      <td>1/15/2010</td>\n",
       "      <td>Los Angeles</td>\n",
       "      <td>CA</td>\n",
       "      <td>Other</td>\n",
       "      <td>NaN</td>\n",
       "      <td>False</td>\n",
       "      <td>False</td>\n",
       "    </tr>\n",
       "  </tbody>\n",
       "</table>\n",
       "<p>12491 rows × 12 columns</p>\n",
       "</div>"
      ],
      "text/plain": [
       "         UID                     Name   Age  Gender   Race       Date  \\\n",
       "0        133            Karen O. Chin  44.0  Female  Asian   5/4/2000   \n",
       "1        169     Chyraphone Komvongsa  26.0    Male  Asian   6/2/2000   \n",
       "2        257            Ming Chinh Ly  36.0    Male  Asian  8/13/2000   \n",
       "3        483            Kinh Quoc Dao  29.0    Male  Asian   2/9/2001   \n",
       "4        655  Vanpaseuth Phaisouphanh  25.0    Male  Asian  6/10/2001   \n",
       "...      ...                      ...   ...     ...    ...        ...   \n",
       "12486  12388  Name withheld by police   NaN    Male    NaN  12/9/2008   \n",
       "12487  12429         Gene Lovell Ford  48.0    Male    NaN   8/6/2008   \n",
       "12488  12430                Jose Vega  38.0    Male    NaN   8/6/2008   \n",
       "12489  12636          Humberto Torres  41.0    Male    NaN  3/21/2009   \n",
       "12490  12861  Name withheld by police  39.0    Male    NaN  1/15/2010   \n",
       "\n",
       "              City State Manner_of_death  Armed  Mental_illness   Flee  \n",
       "0          Alameda    CA            Shot    NaN           False  False  \n",
       "1           Fresno    CA            Shot    NaN           False  False  \n",
       "2         Rosemead    CA            Shot    Gun           False  False  \n",
       "3      Valley Glen    CA            Shot    Gun           False  False  \n",
       "4        Riverside    CA            Shot  Knife           False  False  \n",
       "...            ...   ...             ...    ...             ...    ...  \n",
       "12486   Sacramento    CA           Other    NaN           False  False  \n",
       "12487   Sacramento    CA           Other    NaN            True  False  \n",
       "12488      Visalia    CA           Other    NaN            True  False  \n",
       "12489       Delano    CA           Other    Gun           False  False  \n",
       "12490  Los Angeles    CA           Other    NaN           False  False  \n",
       "\n",
       "[12491 rows x 12 columns]"
      ]
     },
     "execution_count": 4,
     "metadata": {},
     "output_type": "execute_result"
    }
   ],
   "source": [
    "police_fatalities_df"
   ]
  },
  {
   "cell_type": "code",
   "execution_count": 5,
   "metadata": {},
   "outputs": [],
   "source": [
    "z_old_df = pd.read_csv('C:/Users/Arsen/awram-us-police-involved-fatalities/z_old_data.csv', encoding='ISO-8859-1')"
   ]
  },
  {
   "cell_type": "code",
   "execution_count": 6,
   "metadata": {},
   "outputs": [
    {
     "data": {
      "text/html": [
       "<div>\n",
       "<style scoped>\n",
       "    .dataframe tbody tr th:only-of-type {\n",
       "        vertical-align: middle;\n",
       "    }\n",
       "\n",
       "    .dataframe tbody tr th {\n",
       "        vertical-align: top;\n",
       "    }\n",
       "\n",
       "    .dataframe thead th {\n",
       "        text-align: right;\n",
       "    }\n",
       "</style>\n",
       "<table border=\"1\" class=\"dataframe\">\n",
       "  <thead>\n",
       "    <tr style=\"text-align: right;\">\n",
       "      <th></th>\n",
       "      <th>stateCode</th>\n",
       "      <th>state</th>\n",
       "      <th>popEst2014</th>\n",
       "    </tr>\n",
       "  </thead>\n",
       "  <tbody>\n",
       "    <tr>\n",
       "      <th>0</th>\n",
       "      <td>AL</td>\n",
       "      <td>Alabama</td>\n",
       "      <td>4,849,377</td>\n",
       "    </tr>\n",
       "    <tr>\n",
       "      <th>1</th>\n",
       "      <td>AK</td>\n",
       "      <td>Alaska</td>\n",
       "      <td>736,732</td>\n",
       "    </tr>\n",
       "    <tr>\n",
       "      <th>2</th>\n",
       "      <td>AZ</td>\n",
       "      <td>Arizona</td>\n",
       "      <td>6,731,484</td>\n",
       "    </tr>\n",
       "    <tr>\n",
       "      <th>3</th>\n",
       "      <td>AR</td>\n",
       "      <td>Arkansas</td>\n",
       "      <td>2,966,369</td>\n",
       "    </tr>\n",
       "    <tr>\n",
       "      <th>4</th>\n",
       "      <td>CA</td>\n",
       "      <td>California</td>\n",
       "      <td>38,802,500</td>\n",
       "    </tr>\n",
       "  </tbody>\n",
       "</table>\n",
       "</div>"
      ],
      "text/plain": [
       "  stateCode       state   popEst2014 \n",
       "0        AL     Alabama    4,849,377 \n",
       "1        AK      Alaska      736,732 \n",
       "2        AZ     Arizona    6,731,484 \n",
       "3        AR    Arkansas    2,966,369 \n",
       "4        CA  California   38,802,500 "
      ]
     },
     "execution_count": 6,
     "metadata": {},
     "output_type": "execute_result"
    }
   ],
   "source": [
    "census_df.head()"
   ]
  },
  {
   "cell_type": "code",
   "execution_count": 7,
   "metadata": {},
   "outputs": [
    {
     "data": {
      "text/html": [
       "<div>\n",
       "<style scoped>\n",
       "    .dataframe tbody tr th:only-of-type {\n",
       "        vertical-align: middle;\n",
       "    }\n",
       "\n",
       "    .dataframe tbody tr th {\n",
       "        vertical-align: top;\n",
       "    }\n",
       "\n",
       "    .dataframe thead th {\n",
       "        text-align: right;\n",
       "    }\n",
       "</style>\n",
       "<table border=\"1\" class=\"dataframe\">\n",
       "  <thead>\n",
       "    <tr style=\"text-align: right;\">\n",
       "      <th></th>\n",
       "      <th>UID</th>\n",
       "      <th>Name</th>\n",
       "      <th>Age</th>\n",
       "      <th>Gender</th>\n",
       "      <th>Race</th>\n",
       "      <th>Date</th>\n",
       "      <th>City</th>\n",
       "      <th>State</th>\n",
       "      <th>Manner_of_death</th>\n",
       "      <th>Armed</th>\n",
       "      <th>Mental_illness</th>\n",
       "      <th>Flee</th>\n",
       "    </tr>\n",
       "  </thead>\n",
       "  <tbody>\n",
       "    <tr>\n",
       "      <th>0</th>\n",
       "      <td>133</td>\n",
       "      <td>Karen O. Chin</td>\n",
       "      <td>44.0</td>\n",
       "      <td>Female</td>\n",
       "      <td>Asian</td>\n",
       "      <td>5/4/2000</td>\n",
       "      <td>Alameda</td>\n",
       "      <td>CA</td>\n",
       "      <td>Shot</td>\n",
       "      <td>NaN</td>\n",
       "      <td>False</td>\n",
       "      <td>False</td>\n",
       "    </tr>\n",
       "    <tr>\n",
       "      <th>1</th>\n",
       "      <td>169</td>\n",
       "      <td>Chyraphone Komvongsa</td>\n",
       "      <td>26.0</td>\n",
       "      <td>Male</td>\n",
       "      <td>Asian</td>\n",
       "      <td>6/2/2000</td>\n",
       "      <td>Fresno</td>\n",
       "      <td>CA</td>\n",
       "      <td>Shot</td>\n",
       "      <td>NaN</td>\n",
       "      <td>False</td>\n",
       "      <td>False</td>\n",
       "    </tr>\n",
       "    <tr>\n",
       "      <th>2</th>\n",
       "      <td>257</td>\n",
       "      <td>Ming Chinh Ly</td>\n",
       "      <td>36.0</td>\n",
       "      <td>Male</td>\n",
       "      <td>Asian</td>\n",
       "      <td>8/13/2000</td>\n",
       "      <td>Rosemead</td>\n",
       "      <td>CA</td>\n",
       "      <td>Shot</td>\n",
       "      <td>Gun</td>\n",
       "      <td>False</td>\n",
       "      <td>False</td>\n",
       "    </tr>\n",
       "    <tr>\n",
       "      <th>3</th>\n",
       "      <td>483</td>\n",
       "      <td>Kinh Quoc Dao</td>\n",
       "      <td>29.0</td>\n",
       "      <td>Male</td>\n",
       "      <td>Asian</td>\n",
       "      <td>2/9/2001</td>\n",
       "      <td>Valley Glen</td>\n",
       "      <td>CA</td>\n",
       "      <td>Shot</td>\n",
       "      <td>Gun</td>\n",
       "      <td>False</td>\n",
       "      <td>False</td>\n",
       "    </tr>\n",
       "    <tr>\n",
       "      <th>4</th>\n",
       "      <td>655</td>\n",
       "      <td>Vanpaseuth Phaisouphanh</td>\n",
       "      <td>25.0</td>\n",
       "      <td>Male</td>\n",
       "      <td>Asian</td>\n",
       "      <td>6/10/2001</td>\n",
       "      <td>Riverside</td>\n",
       "      <td>CA</td>\n",
       "      <td>Shot</td>\n",
       "      <td>Knife</td>\n",
       "      <td>False</td>\n",
       "      <td>False</td>\n",
       "    </tr>\n",
       "  </tbody>\n",
       "</table>\n",
       "</div>"
      ],
      "text/plain": [
       "   UID                     Name   Age  Gender   Race       Date         City  \\\n",
       "0  133            Karen O. Chin  44.0  Female  Asian   5/4/2000      Alameda   \n",
       "1  169     Chyraphone Komvongsa  26.0    Male  Asian   6/2/2000       Fresno   \n",
       "2  257            Ming Chinh Ly  36.0    Male  Asian  8/13/2000     Rosemead   \n",
       "3  483            Kinh Quoc Dao  29.0    Male  Asian   2/9/2001  Valley Glen   \n",
       "4  655  Vanpaseuth Phaisouphanh  25.0    Male  Asian  6/10/2001    Riverside   \n",
       "\n",
       "  State Manner_of_death  Armed  Mental_illness   Flee  \n",
       "0    CA            Shot    NaN           False  False  \n",
       "1    CA            Shot    NaN           False  False  \n",
       "2    CA            Shot    Gun           False  False  \n",
       "3    CA            Shot    Gun           False  False  \n",
       "4    CA            Shot  Knife           False  False  "
      ]
     },
     "execution_count": 7,
     "metadata": {},
     "output_type": "execute_result"
    }
   ],
   "source": [
    "police_fatalities_df.head()"
   ]
  },
  {
   "cell_type": "code",
   "execution_count": 8,
   "metadata": {},
   "outputs": [
    {
     "data": {
      "text/html": [
       "<div>\n",
       "<style scoped>\n",
       "    .dataframe tbody tr th:only-of-type {\n",
       "        vertical-align: middle;\n",
       "    }\n",
       "\n",
       "    .dataframe tbody tr th {\n",
       "        vertical-align: top;\n",
       "    }\n",
       "\n",
       "    .dataframe thead th {\n",
       "        text-align: right;\n",
       "    }\n",
       "</style>\n",
       "<table border=\"1\" class=\"dataframe\">\n",
       "  <thead>\n",
       "    <tr style=\"text-align: right;\">\n",
       "      <th></th>\n",
       "      <th>ID</th>\n",
       "      <th>Name</th>\n",
       "      <th>Age</th>\n",
       "      <th>Gender</th>\n",
       "      <th>Race</th>\n",
       "      <th>Date</th>\n",
       "      <th>City</th>\n",
       "      <th>County</th>\n",
       "      <th>State</th>\n",
       "      <th>Zip code</th>\n",
       "      <th>Agency responsible</th>\n",
       "      <th>Cause of death</th>\n",
       "      <th>Circumstances surrounding death</th>\n",
       "      <th>Symptoms of mental illness</th>\n",
       "    </tr>\n",
       "  </thead>\n",
       "  <tbody>\n",
       "    <tr>\n",
       "      <th>0</th>\n",
       "      <td>2</td>\n",
       "      <td>John Edward Pittman</td>\n",
       "      <td>45</td>\n",
       "      <td>Male</td>\n",
       "      <td>African-American/Black</td>\n",
       "      <td>1/5/2000</td>\n",
       "      <td>Dothan</td>\n",
       "      <td>Houston</td>\n",
       "      <td>AL</td>\n",
       "      <td>NaN</td>\n",
       "      <td>Dothan Police Department</td>\n",
       "      <td>Gunshot</td>\n",
       "      <td>John Edward Pittman was shot and killed by off...</td>\n",
       "      <td>NaN</td>\n",
       "    </tr>\n",
       "    <tr>\n",
       "      <th>1</th>\n",
       "      <td>5</td>\n",
       "      <td>Adrian Dolby</td>\n",
       "      <td>31</td>\n",
       "      <td>Male</td>\n",
       "      <td>NaN</td>\n",
       "      <td>1/6/2000</td>\n",
       "      <td>Muscoy</td>\n",
       "      <td>San Bernardino</td>\n",
       "      <td>CA</td>\n",
       "      <td>92407.0</td>\n",
       "      <td>San Bernardino Police Department, San Bernardi...</td>\n",
       "      <td>Gunshot</td>\n",
       "      <td>SWAT officers shot and killed Adrian Dolby sho...</td>\n",
       "      <td>NaN</td>\n",
       "    </tr>\n",
       "    <tr>\n",
       "      <th>2</th>\n",
       "      <td>4</td>\n",
       "      <td>Darryl Woodall Jr.</td>\n",
       "      <td>23</td>\n",
       "      <td>Male</td>\n",
       "      <td>NaN</td>\n",
       "      <td>1/6/2000</td>\n",
       "      <td>Charlotte</td>\n",
       "      <td>Mecklenburg</td>\n",
       "      <td>NC</td>\n",
       "      <td>28208.0</td>\n",
       "      <td>North Carolina State Highway Patrol, Charlotte...</td>\n",
       "      <td>Gunshot</td>\n",
       "      <td>State troopers and county deputies had tracked...</td>\n",
       "      <td>No</td>\n",
       "    </tr>\n",
       "    <tr>\n",
       "      <th>3</th>\n",
       "      <td>8</td>\n",
       "      <td>Sonny Daniel Diaz</td>\n",
       "      <td>24</td>\n",
       "      <td>Male</td>\n",
       "      <td>NaN</td>\n",
       "      <td>1/9/2000</td>\n",
       "      <td>Moreno Valley</td>\n",
       "      <td>Riverside</td>\n",
       "      <td>CA</td>\n",
       "      <td>92553.0</td>\n",
       "      <td>Riverside County Sheriff's Office</td>\n",
       "      <td>Gunshot</td>\n",
       "      <td>Deputies shot and killed Sonny Daniel Diaz whe...</td>\n",
       "      <td>NaN</td>\n",
       "    </tr>\n",
       "    <tr>\n",
       "      <th>4</th>\n",
       "      <td>9</td>\n",
       "      <td>Erin Forbes</td>\n",
       "      <td>26</td>\n",
       "      <td>Male</td>\n",
       "      <td>African-American/Black</td>\n",
       "      <td>1/10/2000</td>\n",
       "      <td>Bala Cywyd</td>\n",
       "      <td>Philadelphia</td>\n",
       "      <td>PA</td>\n",
       "      <td>19131.0</td>\n",
       "      <td>Lower Merion Township Police Department</td>\n",
       "      <td>Gunshot</td>\n",
       "      <td>An Army veteran and West Chester University st...</td>\n",
       "      <td>No</td>\n",
       "    </tr>\n",
       "  </tbody>\n",
       "</table>\n",
       "</div>"
      ],
      "text/plain": [
       "   ID                 Name Age Gender                    Race       Date  \\\n",
       "0   2  John Edward Pittman  45   Male  African-American/Black   1/5/2000   \n",
       "1   5         Adrian Dolby  31   Male                     NaN   1/6/2000   \n",
       "2   4   Darryl Woodall Jr.  23   Male                     NaN   1/6/2000   \n",
       "3   8    Sonny Daniel Diaz  24   Male                     NaN   1/9/2000   \n",
       "4   9          Erin Forbes  26   Male  African-American/Black  1/10/2000   \n",
       "\n",
       "            City          County State  Zip code  \\\n",
       "0         Dothan         Houston    AL       NaN   \n",
       "1         Muscoy  San Bernardino    CA   92407.0   \n",
       "2      Charlotte     Mecklenburg    NC   28208.0   \n",
       "3  Moreno Valley       Riverside    CA   92553.0   \n",
       "4     Bala Cywyd    Philadelphia    PA   19131.0   \n",
       "\n",
       "                                  Agency responsible Cause of death  \\\n",
       "0                           Dothan Police Department        Gunshot   \n",
       "1  San Bernardino Police Department, San Bernardi...        Gunshot   \n",
       "2  North Carolina State Highway Patrol, Charlotte...        Gunshot   \n",
       "3                  Riverside County Sheriff's Office        Gunshot   \n",
       "4            Lower Merion Township Police Department        Gunshot   \n",
       "\n",
       "                     Circumstances surrounding death  \\\n",
       "0  John Edward Pittman was shot and killed by off...   \n",
       "1  SWAT officers shot and killed Adrian Dolby sho...   \n",
       "2  State troopers and county deputies had tracked...   \n",
       "3  Deputies shot and killed Sonny Daniel Diaz whe...   \n",
       "4  An Army veteran and West Chester University st...   \n",
       "\n",
       "  Symptoms of mental illness  \n",
       "0                        NaN  \n",
       "1                        NaN  \n",
       "2                         No  \n",
       "3                        NaN  \n",
       "4                         No  "
      ]
     },
     "execution_count": 8,
     "metadata": {},
     "output_type": "execute_result"
    }
   ],
   "source": [
    "z_old_df.head()"
   ]
  },
  {
   "cell_type": "markdown",
   "metadata": {},
   "source": [
    "### The problems of my analysis are: \n",
    "* Understanding demographic patterns\n",
    "* Circumstances surrounding deaths\n",
    "* Temporal trends"
   ]
  },
  {
   "cell_type": "markdown",
   "metadata": {},
   "source": [
    "### Data Cleaning"
   ]
  },
  {
   "cell_type": "code",
   "execution_count": 9,
   "metadata": {},
   "outputs": [
    {
     "name": "stdout",
     "output_type": "stream",
     "text": [
      "<class 'pandas.core.frame.DataFrame'>\n",
      "RangeIndex: 51 entries, 0 to 50\n",
      "Data columns (total 3 columns):\n",
      " #   Column        Non-Null Count  Dtype \n",
      "---  ------        --------------  ----- \n",
      " 0   stateCode     51 non-null     object\n",
      " 1   state         51 non-null     object\n",
      " 2    popEst2014   51 non-null     object\n",
      "dtypes: object(3)\n",
      "memory usage: 1.3+ KB\n"
     ]
    }
   ],
   "source": [
    "census_df.info()"
   ]
  },
  {
   "cell_type": "code",
   "execution_count": 10,
   "metadata": {},
   "outputs": [
    {
     "name": "stdout",
     "output_type": "stream",
     "text": [
      "<class 'pandas.core.frame.DataFrame'>\n",
      "RangeIndex: 12491 entries, 0 to 12490\n",
      "Data columns (total 12 columns):\n",
      " #   Column           Non-Null Count  Dtype  \n",
      "---  ------           --------------  -----  \n",
      " 0   UID              12491 non-null  int64  \n",
      " 1   Name             12491 non-null  object \n",
      " 2   Age              12258 non-null  float64\n",
      " 3   Gender           12483 non-null  object \n",
      " 4   Race             8526 non-null   object \n",
      " 5   Date             12491 non-null  object \n",
      " 6   City             12487 non-null  object \n",
      " 7   State            12491 non-null  object \n",
      " 8   Manner_of_death  12491 non-null  object \n",
      " 9   Armed            6814 non-null   object \n",
      " 10  Mental_illness   12491 non-null  bool   \n",
      " 11  Flee             12491 non-null  bool   \n",
      "dtypes: bool(2), float64(1), int64(1), object(8)\n",
      "memory usage: 1000.4+ KB\n"
     ]
    }
   ],
   "source": [
    "police_fatalities_df.info()\n",
    "police_fatalities_df_copy = police_fatalities_df.copy()"
   ]
  },
  {
   "cell_type": "code",
   "execution_count": 11,
   "metadata": {},
   "outputs": [],
   "source": [
    "mode_age = police_fatalities_df['Age'].mode()[0]\n",
    "police_fatalities_df['Age'].fillna(mode_age, inplace=True)  "
   ]
  },
  {
   "cell_type": "code",
   "execution_count": 12,
   "metadata": {},
   "outputs": [],
   "source": [
    "mode_gender = police_fatalities_df['Gender'].mode()[0]\n",
    "police_fatalities_df['Gender'].fillna(mode_gender, inplace=True)  "
   ]
  },
  {
   "cell_type": "code",
   "execution_count": 13,
   "metadata": {},
   "outputs": [
    {
     "name": "stdout",
     "output_type": "stream",
     "text": [
      "Asian 173\n",
      "Black 2536\n",
      "Hispanic 1784\n",
      "Other 48\n",
      "Native 130\n",
      "White 3855\n",
      "nan 0\n",
      "Null 3965\n"
     ]
    }
   ],
   "source": [
    "for i in police_fatalities_df['Race'].unique():\n",
    "    print(f'{i}', len(police_fatalities_df[police_fatalities_df['Race'] == f'{i}']))\n",
    "print('Null', len(police_fatalities_df[police_fatalities_df['Race'].isna()]))"
   ]
  },
  {
   "cell_type": "code",
   "execution_count": 14,
   "metadata": {},
   "outputs": [],
   "source": [
    "mode_race = police_fatalities_df['Race'].mode()[0]\n",
    "police_fatalities_df['Race'].fillna(mode_race, inplace=True)  "
   ]
  },
  {
   "cell_type": "code",
   "execution_count": 15,
   "metadata": {},
   "outputs": [],
   "source": [
    "mode_armed = police_fatalities_df['Armed'].mode()[0]\n",
    "police_fatalities_df['Armed'].fillna(mode_armed, inplace=True)  "
   ]
  },
  {
   "cell_type": "code",
   "execution_count": 16,
   "metadata": {},
   "outputs": [],
   "source": [
    "police_fatalities_df = police_fatalities_df.dropna(subset=['City'])"
   ]
  },
  {
   "cell_type": "code",
   "execution_count": 17,
   "metadata": {},
   "outputs": [
    {
     "name": "stdout",
     "output_type": "stream",
     "text": [
      "<class 'pandas.core.frame.DataFrame'>\n",
      "RangeIndex: 10640 entries, 0 to 10639\n",
      "Data columns (total 14 columns):\n",
      " #   Column                           Non-Null Count  Dtype  \n",
      "---  ------                           --------------  -----  \n",
      " 0   ID                               10640 non-null  int64  \n",
      " 1   Name                             10640 non-null  object \n",
      " 2   Age                              10447 non-null  object \n",
      " 3   Gender                           10634 non-null  object \n",
      " 4   Race                             6839 non-null   object \n",
      " 5   Date                             10640 non-null  object \n",
      " 6   City                             10636 non-null  object \n",
      " 7   County                           10639 non-null  object \n",
      " 8   State                            10640 non-null  object \n",
      " 9   Zip code                         10586 non-null  float64\n",
      " 10  Agency responsible               10613 non-null  object \n",
      " 11  Cause of death                   10637 non-null  object \n",
      " 12  Circumstances surrounding death  10640 non-null  object \n",
      " 13  Symptoms of mental illness       7929 non-null   object \n",
      "dtypes: float64(1), int64(1), object(12)\n",
      "memory usage: 1.1+ MB\n"
     ]
    }
   ],
   "source": [
    "z_old_df.info()\n",
    "z_old_df_copy = z_old_df.copy()"
   ]
  },
  {
   "cell_type": "code",
   "execution_count": 18,
   "metadata": {},
   "outputs": [
    {
     "data": {
      "text/plain": [
       "array([nan, 'No', 'Yes', 'Drug or alcohol use', 'Yes. Also had dementia.',\n",
       "       'Traumatic brain injury', 'yes', 'Epilepsy',\n",
       "       'Reportedly suffering from medical complications associated with recent open heart surgery.',\n",
       "       'Acting bizarrely, though likely caused by the meningitis',\n",
       "       'Reportedly acting paranoid',\n",
       "       'Reportedly tired of having to take dozens of pills every day for pain.',\n",
       "       'Yes; also had Epilepsy', 'Substance use issues',\n",
       "       'Reportedly suicidal', 'Drug or alcohol use possible', 'no'],\n",
       "      dtype=object)"
      ]
     },
     "execution_count": 18,
     "metadata": {},
     "output_type": "execute_result"
    }
   ],
   "source": [
    "z_old_df['Symptoms of mental illness'].unique()"
   ]
  },
  {
   "cell_type": "code",
   "execution_count": 19,
   "metadata": {},
   "outputs": [],
   "source": [
    "z_mode_age = z_old_df['Age'].mode()[0]\n",
    "z_old_df['Age'].fillna(z_mode_age, inplace=True)  \n",
    "\n",
    "z_mode_gender = z_old_df['Gender'].mode()[0]\n",
    "z_old_df['Gender'].fillna(z_mode_gender, inplace=True)  \n",
    "\n",
    "z_mode_race = z_old_df['Race'].mode()[0]\n",
    "z_old_df['Race'].fillna(z_mode_race, inplace=True) \n",
    "\n",
    "z_mode_age = z_old_df['Age'].mode()[0]\n",
    "z_old_df['Age'].fillna(z_mode_age, inplace=True)  \n",
    "\n",
    "z_old_df = z_old_df.dropna(subset=['City'])\n",
    "z_old_df = z_old_df.dropna(subset=['Zip code'])"
   ]
  },
  {
   "cell_type": "markdown",
   "metadata": {},
   "source": [
    "### Understanding Demographic Patterns"
   ]
  },
  {
   "cell_type": "code",
   "execution_count": 20,
   "metadata": {},
   "outputs": [
    {
     "data": {
      "text/plain": [
       "Race\n",
       "Asian        173\n",
       "Black       2536\n",
       "Hispanic    1784\n",
       "Native       130\n",
       "Other         48\n",
       "White       3855\n",
       "Name: UID, dtype: int64"
      ]
     },
     "execution_count": 20,
     "metadata": {},
     "output_type": "execute_result"
    }
   ],
   "source": [
    "police_fatalities_df_copy.groupby('Race')['UID'].count()"
   ]
  },
  {
   "cell_type": "code",
   "execution_count": 21,
   "metadata": {},
   "outputs": [
    {
     "data": {
      "text/plain": [
       "Age\n",
       "22.0    439\n",
       "25.0    417\n",
       "26.0    416\n",
       "29.0    406\n",
       "24.0    402\n",
       "21.0    398\n",
       "31.0    393\n",
       "27.0    393\n",
       "23.0    387\n",
       "30.0    379\n",
       "28.0    373\n",
       "35.0    350\n",
       "32.0    341\n",
       "36.0    328\n",
       "34.0    328\n",
       "33.0    320\n",
       "20.0    319\n",
       "38.0    302\n",
       "19.0    297\n",
       "40.0    294\n",
       "Name: UID, dtype: int64"
      ]
     },
     "execution_count": 21,
     "metadata": {},
     "output_type": "execute_result"
    }
   ],
   "source": [
    "police_fatalities_df_copy.groupby('Age')['UID'].count().sort_values(ascending=False).iloc[:20]"
   ]
  },
  {
   "cell_type": "code",
   "execution_count": 22,
   "metadata": {},
   "outputs": [
    {
     "data": {
      "text/plain": [
       "Gender\n",
       "Female      613\n",
       "Male      11870\n",
       "Name: UID, dtype: int64"
      ]
     },
     "execution_count": 22,
     "metadata": {},
     "output_type": "execute_result"
    }
   ],
   "source": [
    "police_fatalities_df_copy.groupby('Gender')['UID'].count()"
   ]
  },
  {
   "cell_type": "markdown",
   "metadata": {},
   "source": [
    "### Circumstances surrounding deaths"
   ]
  },
  {
   "cell_type": "code",
   "execution_count": 23,
   "metadata": {},
   "outputs": [
    {
     "name": "stdout",
     "output_type": "stream",
     "text": [
      "Total number of fatalities 12487 \n",
      "\n"
     ]
    }
   ],
   "source": [
    "total_fatalities = police_fatalities_df['UID'].count()\n",
    "print(\"Total number of fatalities\", total_fatalities, '\\n')"
   ]
  },
  {
   "cell_type": "code",
   "execution_count": 24,
   "metadata": {},
   "outputs": [
    {
     "data": {
      "text/html": [
       "<div>\n",
       "<style scoped>\n",
       "    .dataframe tbody tr th:only-of-type {\n",
       "        vertical-align: middle;\n",
       "    }\n",
       "\n",
       "    .dataframe tbody tr th {\n",
       "        vertical-align: top;\n",
       "    }\n",
       "\n",
       "    .dataframe thead th {\n",
       "        text-align: right;\n",
       "    }\n",
       "</style>\n",
       "<table border=\"1\" class=\"dataframe\">\n",
       "  <thead>\n",
       "    <tr style=\"text-align: right;\">\n",
       "      <th></th>\n",
       "      <th>Number</th>\n",
       "      <th>Percent</th>\n",
       "    </tr>\n",
       "    <tr>\n",
       "      <th>Manner_of_death</th>\n",
       "      <th></th>\n",
       "      <th></th>\n",
       "    </tr>\n",
       "  </thead>\n",
       "  <tbody>\n",
       "    <tr>\n",
       "      <th>Shot</th>\n",
       "      <td>11796</td>\n",
       "      <td>94.466245</td>\n",
       "    </tr>\n",
       "    <tr>\n",
       "      <th>Tasered</th>\n",
       "      <td>542</td>\n",
       "      <td>4.340514</td>\n",
       "    </tr>\n",
       "    <tr>\n",
       "      <th>Shot and Tasered</th>\n",
       "      <td>120</td>\n",
       "      <td>0.960999</td>\n",
       "    </tr>\n",
       "    <tr>\n",
       "      <th>Other</th>\n",
       "      <td>29</td>\n",
       "      <td>0.232242</td>\n",
       "    </tr>\n",
       "  </tbody>\n",
       "</table>\n",
       "</div>"
      ],
      "text/plain": [
       "                  Number    Percent\n",
       "Manner_of_death                    \n",
       "Shot               11796  94.466245\n",
       "Tasered              542   4.340514\n",
       "Shot and Tasered     120   0.960999\n",
       "Other                 29   0.232242"
      ]
     },
     "execution_count": 24,
     "metadata": {},
     "output_type": "execute_result"
    }
   ],
   "source": [
    "total_fatalities = police_fatalities_df['UID'].count()\n",
    "manner_of_death_percentage = (police_fatalities_df.groupby('Manner_of_death')['UID'].count() / total_fatalities) * 100\n",
    "each_manner_of_death = police_fatalities_df.groupby('Manner_of_death')['UID'].count().sort_values(ascending=False)\n",
    "manner_of_death_percentage.name = 'Percent'\n",
    "each_manner_of_death.name = 'Number'\n",
    "pd.concat([each_manner_of_death, manner_of_death_percentage], axis = 1)"
   ]
  },
  {
   "cell_type": "code",
   "execution_count": 25,
   "metadata": {},
   "outputs": [
    {
     "data": {
      "text/html": [
       "<div>\n",
       "<style scoped>\n",
       "    .dataframe tbody tr th:only-of-type {\n",
       "        vertical-align: middle;\n",
       "    }\n",
       "\n",
       "    .dataframe tbody tr th {\n",
       "        vertical-align: top;\n",
       "    }\n",
       "\n",
       "    .dataframe thead th {\n",
       "        text-align: right;\n",
       "    }\n",
       "</style>\n",
       "<table border=\"1\" class=\"dataframe\">\n",
       "  <thead>\n",
       "    <tr style=\"text-align: right;\">\n",
       "      <th></th>\n",
       "      <th>Number</th>\n",
       "      <th>Percentage</th>\n",
       "    </tr>\n",
       "    <tr>\n",
       "      <th>Armed</th>\n",
       "      <th></th>\n",
       "      <th></th>\n",
       "    </tr>\n",
       "  </thead>\n",
       "  <tbody>\n",
       "    <tr>\n",
       "      <th>Gun</th>\n",
       "      <td>10376</td>\n",
       "      <td>83.094418</td>\n",
       "    </tr>\n",
       "    <tr>\n",
       "      <th>Knife</th>\n",
       "      <td>1361</td>\n",
       "      <td>10.899335</td>\n",
       "    </tr>\n",
       "    <tr>\n",
       "      <th>Unarmed</th>\n",
       "      <td>400</td>\n",
       "      <td>3.203331</td>\n",
       "    </tr>\n",
       "    <tr>\n",
       "      <th>Vehicle</th>\n",
       "      <td>111</td>\n",
       "      <td>0.888924</td>\n",
       "    </tr>\n",
       "    <tr>\n",
       "      <th>Toy Weapon</th>\n",
       "      <td>69</td>\n",
       "      <td>0.552575</td>\n",
       "    </tr>\n",
       "    <tr>\n",
       "      <th>Toy weapon</th>\n",
       "      <td>29</td>\n",
       "      <td>0.232242</td>\n",
       "    </tr>\n",
       "    <tr>\n",
       "      <th>Machete</th>\n",
       "      <td>16</td>\n",
       "      <td>0.128133</td>\n",
       "    </tr>\n",
       "    <tr>\n",
       "      <th>Unknown Weapon</th>\n",
       "      <td>15</td>\n",
       "      <td>0.120125</td>\n",
       "    </tr>\n",
       "    <tr>\n",
       "      <th>Sword</th>\n",
       "      <td>8</td>\n",
       "      <td>0.064067</td>\n",
       "    </tr>\n",
       "    <tr>\n",
       "      <th>Hammer</th>\n",
       "      <td>7</td>\n",
       "      <td>0.056058</td>\n",
       "    </tr>\n",
       "  </tbody>\n",
       "</table>\n",
       "</div>"
      ],
      "text/plain": [
       "                Number  Percentage\n",
       "Armed                             \n",
       "Gun              10376   83.094418\n",
       "Knife             1361   10.899335\n",
       "Unarmed            400    3.203331\n",
       "Vehicle            111    0.888924\n",
       "Toy Weapon          69    0.552575\n",
       "Toy weapon          29    0.232242\n",
       "Machete             16    0.128133\n",
       "Unknown Weapon      15    0.120125\n",
       "Sword                8    0.064067\n",
       "Hammer               7    0.056058"
      ]
     },
     "execution_count": 25,
     "metadata": {},
     "output_type": "execute_result"
    }
   ],
   "source": [
    "each_armed_status = police_fatalities_df.groupby('Armed')['UID'].count().sort_values(ascending=False).iloc[:10]\n",
    "armed_percentage = (each_armed_status / total_fatalities) * 100\n",
    "armed_percentage.name = 'Percentage'\n",
    "each_armed_status.name = 'Number'\n",
    "pd.concat([each_armed_status, armed_percentage], axis = 1)"
   ]
  },
  {
   "cell_type": "code",
   "execution_count": 26,
   "metadata": {},
   "outputs": [
    {
     "data": {
      "text/html": [
       "<div>\n",
       "<style scoped>\n",
       "    .dataframe tbody tr th:only-of-type {\n",
       "        vertical-align: middle;\n",
       "    }\n",
       "\n",
       "    .dataframe tbody tr th {\n",
       "        vertical-align: top;\n",
       "    }\n",
       "\n",
       "    .dataframe thead th {\n",
       "        text-align: right;\n",
       "    }\n",
       "</style>\n",
       "<table border=\"1\" class=\"dataframe\">\n",
       "  <thead>\n",
       "    <tr style=\"text-align: right;\">\n",
       "      <th></th>\n",
       "      <th>Number</th>\n",
       "      <th>Percentage</th>\n",
       "    </tr>\n",
       "    <tr>\n",
       "      <th>Mental_illness</th>\n",
       "      <th></th>\n",
       "      <th></th>\n",
       "    </tr>\n",
       "  </thead>\n",
       "  <tbody>\n",
       "    <tr>\n",
       "      <th>False</th>\n",
       "      <td>9859</td>\n",
       "      <td>78.954112</td>\n",
       "    </tr>\n",
       "    <tr>\n",
       "      <th>True</th>\n",
       "      <td>2628</td>\n",
       "      <td>21.045888</td>\n",
       "    </tr>\n",
       "  </tbody>\n",
       "</table>\n",
       "</div>"
      ],
      "text/plain": [
       "                Number  Percentage\n",
       "Mental_illness                    \n",
       "False             9859   78.954112\n",
       "True              2628   21.045888"
      ]
     },
     "execution_count": 26,
     "metadata": {},
     "output_type": "execute_result"
    }
   ],
   "source": [
    "each_mental_illness = police_fatalities_df.groupby('Mental_illness')['UID'].count().sort_values(ascending=False)\n",
    "mental_illness_percentage = (each_mental_illness / total_fatalities) * 100\n",
    "mental_illness_percentage.name = 'Percentage'; \n",
    "each_mental_illness.name = 'Number'\n",
    "pd.concat([each_mental_illness, mental_illness_percentage], axis = 1)"
   ]
  },
  {
   "cell_type": "code",
   "execution_count": 27,
   "metadata": {},
   "outputs": [
    {
     "data": {
      "text/html": [
       "<div>\n",
       "<style scoped>\n",
       "    .dataframe tbody tr th:only-of-type {\n",
       "        vertical-align: middle;\n",
       "    }\n",
       "\n",
       "    .dataframe tbody tr th {\n",
       "        vertical-align: top;\n",
       "    }\n",
       "\n",
       "    .dataframe thead th {\n",
       "        text-align: right;\n",
       "    }\n",
       "</style>\n",
       "<table border=\"1\" class=\"dataframe\">\n",
       "  <thead>\n",
       "    <tr style=\"text-align: right;\">\n",
       "      <th></th>\n",
       "      <th>Number</th>\n",
       "      <th>Percentage</th>\n",
       "    </tr>\n",
       "    <tr>\n",
       "      <th>Flee</th>\n",
       "      <th></th>\n",
       "      <th></th>\n",
       "    </tr>\n",
       "  </thead>\n",
       "  <tbody>\n",
       "    <tr>\n",
       "      <th>False</th>\n",
       "      <td>11927</td>\n",
       "      <td>95.515336</td>\n",
       "    </tr>\n",
       "    <tr>\n",
       "      <th>True</th>\n",
       "      <td>560</td>\n",
       "      <td>4.484664</td>\n",
       "    </tr>\n",
       "  </tbody>\n",
       "</table>\n",
       "</div>"
      ],
      "text/plain": [
       "       Number  Percentage\n",
       "Flee                     \n",
       "False   11927   95.515336\n",
       "True      560    4.484664"
      ]
     },
     "execution_count": 27,
     "metadata": {},
     "output_type": "execute_result"
    }
   ],
   "source": [
    "each_flee = police_fatalities_df.groupby('Flee')['UID'].count().sort_values(ascending=False)\n",
    "flee_percentage = (each_flee / total_fatalities) * 100\n",
    "flee_percentage.name = 'Percentage'\n",
    "each_flee.name = 'Number'\n",
    "pd.concat([each_flee, flee_percentage], axis = 1)"
   ]
  },
  {
   "cell_type": "markdown",
   "metadata": {},
   "source": [
    "### Temporal trends"
   ]
  },
  {
   "cell_type": "code",
   "execution_count": 28,
   "metadata": {},
   "outputs": [
    {
     "data": {
      "text/plain": [
       "Index(['ID', 'Name', 'Age', 'Gender', 'Race', 'Date', 'City', 'County',\n",
       "       'State', 'Zip code', 'Agency responsible', 'Cause of death',\n",
       "       'Circumstances surrounding death', 'Symptoms of mental illness'],\n",
       "      dtype='object')"
      ]
     },
     "execution_count": 28,
     "metadata": {},
     "output_type": "execute_result"
    }
   ],
   "source": [
    "z_old_df.columns"
   ]
  },
  {
   "cell_type": "code",
   "execution_count": 29,
   "metadata": {},
   "outputs": [
    {
     "data": {
      "image/png": "[encoded data removed]",
      "text/plain": [
       "<Figure size 640x480 with 1 Axes>"
      ]
     },
     "metadata": {},
     "output_type": "display_data"
    }
   ],
   "source": [
    "import matplotlib.pyplot as plt\n",
    "\n",
    "z_old_df['Date'] = pd.to_datetime(z_old_df['Date'])\n",
    "\n",
    "z_old_df['Year'] = z_old_df['Date'].dt.year\n",
    "yearly_counts = z_old_df.groupby('Year')['ID'].count()\n",
    "plt.plot(yearly_counts.index, yearly_counts.values)\n",
    "plt.xlabel('Year')\n",
    "plt.ylabel('Count')\n",
    "plt.title('Police-Involved Fatalities Over Time')\n",
    "plt.show()"
   ]
  },
  {
   "cell_type": "code",
   "execution_count": 30,
   "metadata": {},
   "outputs": [
    {
     "data": {
      "text/html": [
       "<div>\n",
       "<style scoped>\n",
       "    .dataframe tbody tr th:only-of-type {\n",
       "        vertical-align: middle;\n",
       "    }\n",
       "\n",
       "    .dataframe tbody tr th {\n",
       "        vertical-align: top;\n",
       "    }\n",
       "\n",
       "    .dataframe thead th {\n",
       "        text-align: right;\n",
       "    }\n",
       "</style>\n",
       "<table border=\"1\" class=\"dataframe\">\n",
       "  <thead>\n",
       "    <tr style=\"text-align: right;\">\n",
       "      <th></th>\n",
       "      <th>ID</th>\n",
       "      <th>Name</th>\n",
       "      <th>Age</th>\n",
       "      <th>Gender</th>\n",
       "      <th>Race</th>\n",
       "      <th>Date</th>\n",
       "      <th>City</th>\n",
       "      <th>County</th>\n",
       "      <th>State</th>\n",
       "      <th>Zip code</th>\n",
       "      <th>Agency responsible</th>\n",
       "      <th>Cause of death</th>\n",
       "      <th>Circumstances surrounding death</th>\n",
       "      <th>Symptoms of mental illness</th>\n",
       "      <th>Year</th>\n",
       "    </tr>\n",
       "  </thead>\n",
       "  <tbody>\n",
       "    <tr>\n",
       "      <th>1</th>\n",
       "      <td>5</td>\n",
       "      <td>Adrian Dolby</td>\n",
       "      <td>31</td>\n",
       "      <td>Male</td>\n",
       "      <td>European-American/White</td>\n",
       "      <td>2000-01-06</td>\n",
       "      <td>Muscoy</td>\n",
       "      <td>San Bernardino</td>\n",
       "      <td>CA</td>\n",
       "      <td>92407.0</td>\n",
       "      <td>San Bernardino Police Department, San Bernardi...</td>\n",
       "      <td>Gunshot</td>\n",
       "      <td>SWAT officers shot and killed Adrian Dolby sho...</td>\n",
       "      <td>NaN</td>\n",
       "      <td>2000</td>\n",
       "    </tr>\n",
       "    <tr>\n",
       "      <th>2</th>\n",
       "      <td>4</td>\n",
       "      <td>Darryl Woodall Jr.</td>\n",
       "      <td>23</td>\n",
       "      <td>Male</td>\n",
       "      <td>European-American/White</td>\n",
       "      <td>2000-01-06</td>\n",
       "      <td>Charlotte</td>\n",
       "      <td>Mecklenburg</td>\n",
       "      <td>NC</td>\n",
       "      <td>28208.0</td>\n",
       "      <td>North Carolina State Highway Patrol, Charlotte...</td>\n",
       "      <td>Gunshot</td>\n",
       "      <td>State troopers and county deputies had tracked...</td>\n",
       "      <td>No</td>\n",
       "      <td>2000</td>\n",
       "    </tr>\n",
       "    <tr>\n",
       "      <th>3</th>\n",
       "      <td>8</td>\n",
       "      <td>Sonny Daniel Diaz</td>\n",
       "      <td>24</td>\n",
       "      <td>Male</td>\n",
       "      <td>European-American/White</td>\n",
       "      <td>2000-01-09</td>\n",
       "      <td>Moreno Valley</td>\n",
       "      <td>Riverside</td>\n",
       "      <td>CA</td>\n",
       "      <td>92553.0</td>\n",
       "      <td>Riverside County Sheriff's Office</td>\n",
       "      <td>Gunshot</td>\n",
       "      <td>Deputies shot and killed Sonny Daniel Diaz whe...</td>\n",
       "      <td>NaN</td>\n",
       "      <td>2000</td>\n",
       "    </tr>\n",
       "    <tr>\n",
       "      <th>4</th>\n",
       "      <td>9</td>\n",
       "      <td>Erin Forbes</td>\n",
       "      <td>26</td>\n",
       "      <td>Male</td>\n",
       "      <td>African-American/Black</td>\n",
       "      <td>2000-01-10</td>\n",
       "      <td>Bala Cywyd</td>\n",
       "      <td>Philadelphia</td>\n",
       "      <td>PA</td>\n",
       "      <td>19131.0</td>\n",
       "      <td>Lower Merion Township Police Department</td>\n",
       "      <td>Gunshot</td>\n",
       "      <td>An Army veteran and West Chester University st...</td>\n",
       "      <td>No</td>\n",
       "      <td>2000</td>\n",
       "    </tr>\n",
       "    <tr>\n",
       "      <th>5</th>\n",
       "      <td>10</td>\n",
       "      <td>Guido Paul Jean</td>\n",
       "      <td>17</td>\n",
       "      <td>Male</td>\n",
       "      <td>European-American/White</td>\n",
       "      <td>2000-01-11</td>\n",
       "      <td>Tampa</td>\n",
       "      <td>Hillsborough</td>\n",
       "      <td>FL</td>\n",
       "      <td>33617.0</td>\n",
       "      <td>Hillsborough County Sheriff's Office</td>\n",
       "      <td>Gunshot</td>\n",
       "      <td>Jean was the suspect in the armed robbery of a...</td>\n",
       "      <td>No</td>\n",
       "      <td>2000</td>\n",
       "    </tr>\n",
       "  </tbody>\n",
       "</table>\n",
       "</div>"
      ],
      "text/plain": [
       "   ID                Name Age Gender                     Race       Date  \\\n",
       "1   5        Adrian Dolby  31   Male  European-American/White 2000-01-06   \n",
       "2   4  Darryl Woodall Jr.  23   Male  European-American/White 2000-01-06   \n",
       "3   8   Sonny Daniel Diaz  24   Male  European-American/White 2000-01-09   \n",
       "4   9         Erin Forbes  26   Male   African-American/Black 2000-01-10   \n",
       "5  10     Guido Paul Jean  17   Male  European-American/White 2000-01-11   \n",
       "\n",
       "            City          County State  Zip code  \\\n",
       "1         Muscoy  San Bernardino    CA   92407.0   \n",
       "2      Charlotte     Mecklenburg    NC   28208.0   \n",
       "3  Moreno Valley       Riverside    CA   92553.0   \n",
       "4     Bala Cywyd    Philadelphia    PA   19131.0   \n",
       "5          Tampa    Hillsborough    FL   33617.0   \n",
       "\n",
       "                                  Agency responsible Cause of death  \\\n",
       "1  San Bernardino Police Department, San Bernardi...        Gunshot   \n",
       "2  North Carolina State Highway Patrol, Charlotte...        Gunshot   \n",
       "3                  Riverside County Sheriff's Office        Gunshot   \n",
       "4            Lower Merion Township Police Department        Gunshot   \n",
       "5               Hillsborough County Sheriff's Office        Gunshot   \n",
       "\n",
       "                     Circumstances surrounding death  \\\n",
       "1  SWAT officers shot and killed Adrian Dolby sho...   \n",
       "2  State troopers and county deputies had tracked...   \n",
       "3  Deputies shot and killed Sonny Daniel Diaz whe...   \n",
       "4  An Army veteran and West Chester University st...   \n",
       "5  Jean was the suspect in the armed robbery of a...   \n",
       "\n",
       "  Symptoms of mental illness  Year  \n",
       "1                        NaN  2000  \n",
       "2                         No  2000  \n",
       "3                        NaN  2000  \n",
       "4                         No  2000  \n",
       "5                         No  2000  "
      ]
     },
     "execution_count": 30,
     "metadata": {},
     "output_type": "execute_result"
    }
   ],
   "source": [
    "z_old_df.head()"
   ]
  },
  {
   "cell_type": "markdown",
   "metadata": {},
   "source": [
    "### Other analyses"
   ]
  },
  {
   "cell_type": "code",
   "execution_count": 31,
   "metadata": {},
   "outputs": [
    {
     "data": {
      "text/plain": [
       "ID                                 271\n",
       "Name                               271\n",
       "Age                                271\n",
       "Gender                             271\n",
       "Race                               271\n",
       "Date                               271\n",
       "City                               271\n",
       "County                             271\n",
       "State                              271\n",
       "Zip code                           271\n",
       "Agency responsible                 270\n",
       "Cause of death                     271\n",
       "Circumstances surrounding death    271\n",
       "Symptoms of mental illness         220\n",
       "Year                               271\n",
       "dtype: int64"
      ]
     },
     "execution_count": 31,
     "metadata": {},
     "output_type": "execute_result"
    }
   ],
   "source": [
    "z_old_df['Age'] = pd.to_numeric(z_old_df['Age'], errors='coerce')\n",
    "z_old_df[(z_old_df['Age'] < 18) & (z_old_df['Age'] > 12)].count()"
   ]
  },
  {
   "cell_type": "code",
   "execution_count": null,
   "metadata": {},
   "outputs": [],
   "source": []
  }
 ],
 "metadata": {
  "kernelspec": {
   "display_name": "Python 3 (ipykernel)",
   "language": "python",
   "name": "python3"
  },
  "language_info": {
   "codemirror_mode": {
    "name": "ipython",
    "version": 3
   },
   "file_extension": ".py",
   "mimetype": "text/x-python",
   "name": "python",
   "nbconvert_exporter": "python",
   "pygments_lexer": "ipython3",
   "version": "3.9.13"
  }
 },
 "nbformat": 4,
 "nbformat_minor": 4
}
